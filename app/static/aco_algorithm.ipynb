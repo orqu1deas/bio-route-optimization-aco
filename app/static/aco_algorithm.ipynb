{
 "cells": [
  {
   "cell_type": "code",
   "execution_count": 39,
   "id": "187989dd",
   "metadata": {},
   "outputs": [],
   "source": [
    "import os\n",
    "import math\n",
    "import random\n",
    "import numpy as np\n",
    "import pandas as pd\n",
    "\n",
    "from haversine import haversine\n",
    "from geopy.distance import geodesic"
   ]
  },
  {
   "cell_type": "code",
   "execution_count": 40,
   "id": "08c7b327",
   "metadata": {},
   "outputs": [
    {
     "data": {
      "text/html": [
       "<div>\n",
       "<style scoped>\n",
       "    .dataframe tbody tr th:only-of-type {\n",
       "        vertical-align: middle;\n",
       "    }\n",
       "\n",
       "    .dataframe tbody tr th {\n",
       "        vertical-align: top;\n",
       "    }\n",
       "\n",
       "    .dataframe thead th {\n",
       "        text-align: right;\n",
       "    }\n",
       "</style>\n",
       "<table border=\"1\" class=\"dataframe\">\n",
       "  <thead>\n",
       "    <tr style=\"text-align: right;\">\n",
       "      <th></th>\n",
       "      <th>Zona</th>\n",
       "      <th>Nombre</th>\n",
       "      <th>Latitud</th>\n",
       "      <th>Longitud</th>\n",
       "    </tr>\n",
       "  </thead>\n",
       "  <tbody>\n",
       "    <tr>\n",
       "      <th>0</th>\n",
       "      <td>Zona Cafe</td>\n",
       "      <td>Av. Epigmenio Gonzalez 702</td>\n",
       "      <td>20.647555</td>\n",
       "      <td>-100.384022</td>\n",
       "    </tr>\n",
       "    <tr>\n",
       "      <th>1</th>\n",
       "      <td>Zona Cafe</td>\n",
       "      <td>Cremerías La Granja 1973</td>\n",
       "      <td>20.647427</td>\n",
       "      <td>-100.399009</td>\n",
       "    </tr>\n",
       "    <tr>\n",
       "      <th>2</th>\n",
       "      <td>Zona Cafe</td>\n",
       "      <td>Divina Costura</td>\n",
       "      <td>20.647092</td>\n",
       "      <td>-100.404399</td>\n",
       "    </tr>\n",
       "    <tr>\n",
       "      <th>3</th>\n",
       "      <td>Zona Cafe</td>\n",
       "      <td>Del Pueblo 966</td>\n",
       "      <td>20.659303</td>\n",
       "      <td>-100.401885</td>\n",
       "    </tr>\n",
       "    <tr>\n",
       "      <th>4</th>\n",
       "      <td>Zona Cafe</td>\n",
       "      <td>Portal de la Alegría 59</td>\n",
       "      <td>20.650737</td>\n",
       "      <td>-100.396840</td>\n",
       "    </tr>\n",
       "    <tr>\n",
       "      <th>5</th>\n",
       "      <td>Zona Cafe</td>\n",
       "      <td>C. Mecánicos 4</td>\n",
       "      <td>20.637657</td>\n",
       "      <td>-100.396859</td>\n",
       "    </tr>\n",
       "    <tr>\n",
       "      <th>6</th>\n",
       "      <td>Zona Cafe</td>\n",
       "      <td>Av. Pascual Alcocer Vega 308</td>\n",
       "      <td>20.658224</td>\n",
       "      <td>-100.397958</td>\n",
       "    </tr>\n",
       "    <tr>\n",
       "      <th>7</th>\n",
       "      <td>Zona Cafe</td>\n",
       "      <td>Frutería El Güero</td>\n",
       "      <td>20.630758</td>\n",
       "      <td>-100.395272</td>\n",
       "    </tr>\n",
       "    <tr>\n",
       "      <th>8</th>\n",
       "      <td>Zona Cafe</td>\n",
       "      <td>Calle Cocineras</td>\n",
       "      <td>20.638676</td>\n",
       "      <td>-100.398766</td>\n",
       "    </tr>\n",
       "    <tr>\n",
       "      <th>9</th>\n",
       "      <td>Zona Cafe</td>\n",
       "      <td>Quintana Roo 5</td>\n",
       "      <td>20.656635</td>\n",
       "      <td>-100.381148</td>\n",
       "    </tr>\n",
       "  </tbody>\n",
       "</table>\n",
       "</div>"
      ],
      "text/plain": [
       "        Zona                        Nombre    Latitud    Longitud\n",
       "0  Zona Cafe    Av. Epigmenio Gonzalez 702  20.647555 -100.384022\n",
       "1  Zona Cafe      Cremerías La Granja 1973  20.647427 -100.399009\n",
       "2  Zona Cafe                Divina Costura  20.647092 -100.404399\n",
       "3  Zona Cafe                Del Pueblo 966  20.659303 -100.401885\n",
       "4  Zona Cafe       Portal de la Alegría 59  20.650737 -100.396840\n",
       "5  Zona Cafe                C. Mecánicos 4  20.637657 -100.396859\n",
       "6  Zona Cafe  Av. Pascual Alcocer Vega 308  20.658224 -100.397958\n",
       "7  Zona Cafe             Frutería El Güero  20.630758 -100.395272\n",
       "8  Zona Cafe               Calle Cocineras  20.638676 -100.398766\n",
       "9  Zona Cafe                Quintana Roo 5  20.656635 -100.381148"
      ]
     },
     "execution_count": 40,
     "metadata": {},
     "output_type": "execute_result"
    }
   ],
   "source": [
    "ruta_excel = os.path.join(\"..\", \"data\", \"data.xlsx\")\n",
    "df = pd.read_excel(ruta_excel)\n",
    "df.head(10)\n"
   ]
  },
  {
   "cell_type": "code",
   "execution_count": 41,
   "id": "112e24ff",
   "metadata": {},
   "outputs": [],
   "source": [
    "# Distancia Matriz\n",
    "origin = df.loc[df['Zona'] == \"Zona Origen\"].to_dict(orient='records')[0]"
   ]
  },
  {
   "cell_type": "code",
   "execution_count": 42,
   "id": "a447df05",
   "metadata": {},
   "outputs": [
    {
     "name": "stdout",
     "output_type": "stream",
     "text": [
      "107\n"
     ]
    },
    {
     "data": {
      "text/plain": [
       "array([[0.        , 1.55955597, 2.12089074, ..., 7.38674993, 6.93663985,\n",
       "        7.3387631 ],\n",
       "       [1.55955597, 0.        , 0.56200893, ..., 8.4206998 , 7.97889423,\n",
       "        8.31140853],\n",
       "       [2.12089074, 0.56200893, 0.        , ..., 8.80916624, 8.37212981,\n",
       "        8.68080256],\n",
       "       ...,\n",
       "       [7.38674993, 8.4206998 , 8.80916624, ..., 0.        , 0.45057761,\n",
       "        0.41070145],\n",
       "       [6.93663985, 7.97889423, 8.37212981, ..., 0.45057761, 0.        ,\n",
       "        0.5783763 ],\n",
       "       [7.3387631 , 8.31140853, 8.68080256, ..., 0.41070145, 0.5783763 ,\n",
       "        0.        ]], shape=(107, 107))"
      ]
     },
     "execution_count": 42,
     "metadata": {},
     "output_type": "execute_result"
    }
   ],
   "source": [
    "method = \"haversine\"\n",
    "print(len(df))\n",
    "\n",
    "distance_matrix = np.zeros((len(df), len(df)))\n",
    "for i in range(len(df)):\n",
    "    i_df = df.loc[i]\n",
    "    i_coord = (float(i_df['Latitud']), float(i_df['Longitud']))\n",
    "    for j in range(len(df)):\n",
    "        j_df = df.loc[j]\n",
    "        j_coord = (float(j_df['Latitud']), float(j_df['Longitud']))\n",
    "        dist = haversine(i_coord, j_coord) if method == \"haversine\" else geodesic(i_coord, j_coord).km\n",
    "        distance_matrix[i, j] = dist\n",
    "distance_matrix"
   ]
  },
  {
   "cell_type": "code",
   "execution_count": 43,
   "id": "25c3eafb",
   "metadata": {},
   "outputs": [],
   "source": [
    "n = len(df)\n",
    "distance_matrix = np.random.randint(1, 20, (n, n)).astype(float)\n",
    "np.fill_diagonal(distance_matrix, np.inf)\n",
    "feromone_matrix = np.ones((n, n))\n",
    "\n",
    "alpha = 1\n",
    "beta = 2\n",
    "rho = 0.5"
   ]
  },
  {
   "cell_type": "code",
   "execution_count": 44,
   "id": "d14c69da",
   "metadata": {},
   "outputs": [],
   "source": [
    "def probabs(current, visited):\n",
    "    probs = []\n",
    "    for j in range(n):\n",
    "        if j not in visited:\n",
    "            tau = feromone_matrix[current, j] ** alpha\n",
    "            eta = (1 / distance_matrix[current, j]) ** beta\n",
    "            probs.append(tau * eta)\n",
    "        else:\n",
    "            probs.append(0)\n",
    "    probs = np.array(probs)\n",
    "    probs = probs / probs.sum()\n",
    "    return probs\n"
   ]
  },
  {
   "cell_type": "code",
   "execution_count": 45,
   "id": "dbddec35",
   "metadata": {},
   "outputs": [],
   "source": [
    "def select_next_city(current, visited):\n",
    "    probs = probabs(current, visited)\n",
    "    return np.random.choice(range(n), p = probs)"
   ]
  },
  {
   "cell_type": "code",
   "execution_count": 46,
   "id": "80993f72",
   "metadata": {},
   "outputs": [],
   "source": [
    "def build_route(start=0):\n",
    "    route = [start]\n",
    "    while len(route) < n:\n",
    "        next_city = select_next_city(route[-1], route)\n",
    "        route.append(next_city)\n",
    "    return route"
   ]
  },
  {
   "cell_type": "code",
   "execution_count": 47,
   "id": "e39918b2",
   "metadata": {},
   "outputs": [],
   "source": [
    "def route_length(route):\n",
    "    length = 0\n",
    "    for i in range(len(route) - 1):\n",
    "        length += distance_matrix[route[i], route[i + 1]]\n",
    "    return length"
   ]
  },
  {
   "cell_type": "code",
   "execution_count": 48,
   "id": "75598401",
   "metadata": {},
   "outputs": [],
   "source": [
    "def update_pheromones(routes):\n",
    "    global feromone_matrix\n",
    "    # Evaporación\n",
    "    feromone_matrix *= (1 - rho)\n",
    "    for r in routes:\n",
    "        L = route_length(r)\n",
    "        for i in range(len(r) - 1):\n",
    "            a, b = r[i], r[i + 1]\n",
    "            feromone_matrix[a, b] += 1 / L"
   ]
  },
  {
   "cell_type": "code",
   "execution_count": 49,
   "id": "13a797a0",
   "metadata": {},
   "outputs": [
    {
     "name": "stdout",
     "output_type": "stream",
     "text": [
      "\n",
      "===== CICLO 1 =====\n",
      "Hormiga 1: [0, np.int64(76), np.int64(77), np.int64(25), np.int64(10), np.int64(97), np.int64(81), np.int64(93), np.int64(99), np.int64(21), np.int64(54), np.int64(16), np.int64(95), np.int64(88), np.int64(31), np.int64(9), np.int64(98), np.int64(105), np.int64(29), np.int64(1), np.int64(12), np.int64(70), np.int64(3), np.int64(80), np.int64(33), np.int64(2), np.int64(19), np.int64(34), np.int64(13), np.int64(43), np.int64(22), np.int64(86), np.int64(37), np.int64(44), np.int64(28), np.int64(82), np.int64(48), np.int64(68), np.int64(101), np.int64(71), np.int64(47), np.int64(52), np.int64(92), np.int64(102), np.int64(96), np.int64(100), np.int64(15), np.int64(49), np.int64(87), np.int64(73), np.int64(23), np.int64(17), np.int64(41), np.int64(74), np.int64(8), np.int64(50), np.int64(58), np.int64(69), np.int64(91), np.int64(4), np.int64(11), np.int64(36), np.int64(5), np.int64(89), np.int64(106), np.int64(59), np.int64(90), np.int64(60), np.int64(57), np.int64(32), np.int64(14), np.int64(6), np.int64(72), np.int64(53), np.int64(46), np.int64(79), np.int64(63), np.int64(78), np.int64(62), np.int64(67), np.int64(85), np.int64(30), np.int64(66), np.int64(24), np.int64(26), np.int64(64), np.int64(55), np.int64(27), np.int64(83), np.int64(56), np.int64(94), np.int64(61), np.int64(45), np.int64(75), np.int64(20), np.int64(35), np.int64(103), np.int64(40), np.int64(84), np.int64(104), np.int64(7), np.int64(51), np.int64(39), np.int64(38), np.int64(42), np.int64(18), np.int64(65)], Longitud = 347.00\n",
      "Hormiga 2: [0, np.int64(75), np.int64(8), np.int64(55), np.int64(64), np.int64(46), np.int64(32), np.int64(51), np.int64(34), np.int64(39), np.int64(57), np.int64(103), np.int64(70), np.int64(40), np.int64(36), np.int64(2), np.int64(20), np.int64(3), np.int64(12), np.int64(65), np.int64(95), np.int64(11), np.int64(56), np.int64(37), np.int64(49), np.int64(9), np.int64(27), np.int64(66), np.int64(97), np.int64(79), np.int64(80), np.int64(94), np.int64(96), np.int64(83), np.int64(93), np.int64(99), np.int64(24), np.int64(52), np.int64(63), np.int64(10), np.int64(92), np.int64(81), np.int64(102), np.int64(22), np.int64(77), np.int64(73), np.int64(61), np.int64(60), np.int64(33), np.int64(7), np.int64(54), np.int64(6), np.int64(88), np.int64(84), np.int64(44), np.int64(50), np.int64(53), np.int64(45), np.int64(98), np.int64(104), np.int64(100), np.int64(19), np.int64(23), np.int64(38), np.int64(69), np.int64(35), np.int64(28), np.int64(86), np.int64(71), np.int64(1), np.int64(101), np.int64(87), np.int64(47), np.int64(41), np.int64(82), np.int64(13), np.int64(76), np.int64(29), np.int64(78), np.int64(26), np.int64(21), np.int64(14), np.int64(4), np.int64(85), np.int64(43), np.int64(18), np.int64(106), np.int64(59), np.int64(5), np.int64(62), np.int64(67), np.int64(91), np.int64(48), np.int64(17), np.int64(30), np.int64(16), np.int64(68), np.int64(105), np.int64(15), np.int64(58), np.int64(42), np.int64(25), np.int64(72), np.int64(90), np.int64(74), np.int64(31), np.int64(89)], Longitud = 283.00\n",
      "Hormiga 3: [0, np.int64(11), np.int64(40), np.int64(35), np.int64(64), np.int64(27), np.int64(21), np.int64(54), np.int64(106), np.int64(7), np.int64(1), np.int64(99), np.int64(14), np.int64(77), np.int64(70), np.int64(66), np.int64(29), np.int64(84), np.int64(71), np.int64(100), np.int64(85), np.int64(62), np.int64(5), np.int64(92), np.int64(82), np.int64(75), np.int64(58), np.int64(26), np.int64(86), np.int64(53), np.int64(61), np.int64(98), np.int64(105), np.int64(41), np.int64(38), np.int64(36), np.int64(13), np.int64(4), np.int64(76), np.int64(52), np.int64(25), np.int64(18), np.int64(103), np.int64(69), np.int64(33), np.int64(83), np.int64(101), np.int64(95), np.int64(88), np.int64(34), np.int64(87), np.int64(91), np.int64(51), np.int64(9), np.int64(80), np.int64(31), np.int64(37), np.int64(44), np.int64(50), np.int64(65), np.int64(3), np.int64(12), np.int64(30), np.int64(17), np.int64(16), np.int64(79), np.int64(93), np.int64(89), np.int64(20), np.int64(10), np.int64(32), np.int64(2), np.int64(97), np.int64(46), np.int64(49), np.int64(48), np.int64(47), np.int64(39), np.int64(57), np.int64(94), np.int64(72), np.int64(42), np.int64(74), np.int64(78), np.int64(102), np.int64(43), np.int64(59), np.int64(15), np.int64(67), np.int64(56), np.int64(8), np.int64(28), np.int64(90), np.int64(6), np.int64(68), np.int64(81), np.int64(96), np.int64(55), np.int64(104), np.int64(73), np.int64(24), np.int64(22), np.int64(63), np.int64(23), np.int64(45), np.int64(19), np.int64(60)], Longitud = 290.00\n",
      "\n",
      "===== CICLO 2 =====\n",
      "Hormiga 1: [0, np.int64(56), np.int64(26), np.int64(21), np.int64(45), np.int64(22), np.int64(34), np.int64(25), np.int64(57), np.int64(95), np.int64(39), np.int64(20), np.int64(71), np.int64(27), np.int64(28), np.int64(89), np.int64(49), np.int64(48), np.int64(4), np.int64(85), np.int64(7), np.int64(14), np.int64(100), np.int64(19), np.int64(55), np.int64(47), np.int64(41), np.int64(104), np.int64(31), np.int64(1), np.int64(99), np.int64(5), np.int64(62), np.int64(80), np.int64(35), np.int64(64), np.int64(93), np.int64(18), np.int64(33), np.int64(84), np.int64(24), np.int64(51), np.int64(92), np.int64(16), np.int64(6), np.int64(15), np.int64(68), np.int64(81), np.int64(78), np.int64(54), np.int64(63), np.int64(10), np.int64(87), np.int64(73), np.int64(61), np.int64(36), np.int64(98), np.int64(83), np.int64(101), np.int64(11), np.int64(40), np.int64(29), np.int64(72), np.int64(58), np.int64(76), np.int64(70), np.int64(96), np.int64(66), np.int64(65), np.int64(103), np.int64(32), np.int64(97), np.int64(74), np.int64(59), np.int64(38), np.int64(3), np.int64(42), np.int64(46), np.int64(9), np.int64(82), np.int64(13), np.int64(75), np.int64(53), np.int64(94), np.int64(88), np.int64(60), np.int64(12), np.int64(30), np.int64(43), np.int64(91), np.int64(106), np.int64(37), np.int64(44), np.int64(50), np.int64(17), np.int64(102), np.int64(105), np.int64(69), np.int64(2), np.int64(77), np.int64(86), np.int64(67), np.int64(90), np.int64(79), np.int64(52), np.int64(23), np.int64(8)], Longitud = 271.00\n",
      "Hormiga 2: [0, np.int64(87), np.int64(47), np.int64(40), np.int64(34), np.int64(41), np.int64(65), np.int64(79), np.int64(93), np.int64(99), np.int64(100), np.int64(102), np.int64(4), np.int64(5), np.int64(21), np.int64(43), np.int64(61), np.int64(82), np.int64(13), np.int64(76), np.int64(52), np.int64(92), np.int64(56), np.int64(26), np.int64(86), np.int64(53), np.int64(83), np.int64(72), np.int64(80), np.int64(31), np.int64(17), np.int64(20), np.int64(6), np.int64(85), np.int64(23), np.int64(8), np.int64(49), np.int64(9), np.int64(106), np.int64(59), np.int64(29), np.int64(14), np.int64(105), np.int64(15), np.int64(36), np.int64(12), np.int64(46), np.int64(98), np.int64(60), np.int64(33), np.int64(84), np.int64(22), np.int64(97), np.int64(27), np.int64(39), np.int64(81), np.int64(78), np.int64(1), np.int64(28), np.int64(77), np.int64(11), np.int64(50), np.int64(73), np.int64(2), np.int64(91), np.int64(96), np.int64(7), np.int64(10), np.int64(89), np.int64(75), np.int64(58), np.int64(63), np.int64(71), np.int64(32), np.int64(35), np.int64(64), np.int64(55), np.int64(3), np.int64(42), np.int64(16), np.int64(101), np.int64(48), np.int64(67), np.int64(95), np.int64(51), np.int64(38), np.int64(44), np.int64(103), np.int64(69), np.int64(104), np.int64(94), np.int64(74), np.int64(62), np.int64(70), np.int64(66), np.int64(88), np.int64(57), np.int64(30), np.int64(54), np.int64(18), np.int64(37), np.int64(68), np.int64(19), np.int64(25), np.int64(24), np.int64(90), np.int64(45)], Longitud = 240.00\n",
      "Hormiga 3: [0, np.int64(19), np.int64(10), np.int64(41), np.int64(104), np.int64(28), np.int64(22), np.int64(67), np.int64(91), np.int64(40), np.int64(14), np.int64(82), np.int64(70), np.int64(54), np.int64(31), np.int64(64), np.int64(89), np.int64(87), np.int64(4), np.int64(101), np.int64(71), np.int64(100), np.int64(102), np.int64(48), np.int64(34), np.int64(42), np.int64(13), np.int64(1), np.int64(20), np.int64(50), np.int64(37), np.int64(55), np.int64(47), np.int64(32), np.int64(57), np.int64(76), np.int64(23), np.int64(8), np.int64(36), np.int64(21), np.int64(9), np.int64(98), np.int64(60), np.int64(61), np.int64(90), np.int64(6), np.int64(2), np.int64(29), np.int64(59), np.int64(35), np.int64(24), np.int64(11), np.int64(58), np.int64(26), np.int64(79), np.int64(105), np.int64(65), np.int64(38), np.int64(43), np.int64(85), np.int64(66), np.int64(16), np.int64(95), np.int64(51), np.int64(92), np.int64(74), np.int64(56), np.int64(96), np.int64(83), np.int64(7), np.int64(69), np.int64(80), np.int64(94), np.int64(77), np.int64(15), np.int64(49), np.int64(45), np.int64(88), np.int64(84), np.int64(44), np.int64(103), np.int64(73), np.int64(86), np.int64(68), np.int64(81), np.int64(78), np.int64(75), np.int64(53), np.int64(63), np.int64(33), np.int64(25), np.int64(106), np.int64(93), np.int64(52), np.int64(39), np.int64(12), np.int64(62), np.int64(3), np.int64(97), np.int64(46), np.int64(27), np.int64(5), np.int64(18), np.int64(30), np.int64(17), np.int64(72), np.int64(99)], Longitud = 267.00\n",
      "\n",
      "===== CICLO 3 =====\n",
      "Hormiga 1: [0, np.int64(75), np.int64(58), np.int64(32), np.int64(35), np.int64(22), np.int64(94), np.int64(60), np.int64(8), np.int64(9), np.int64(80), np.int64(92), np.int64(84), np.int64(6), np.int64(57), np.int64(3), np.int64(83), np.int64(72), np.int64(96), np.int64(56), np.int64(19), np.int64(42), np.int64(13), np.int64(106), np.int64(28), np.int64(89), np.int64(36), np.int64(88), np.int64(34), np.int64(16), np.int64(82), np.int64(26), np.int64(86), np.int64(53), np.int64(61), np.int64(90), np.int64(50), np.int64(63), np.int64(10), np.int64(87), np.int64(71), np.int64(37), np.int64(49), np.int64(14), np.int64(46), np.int64(24), np.int64(52), np.int64(77), np.int64(102), np.int64(98), np.int64(67), np.int64(91), np.int64(40), np.int64(47), np.int64(25), np.int64(18), np.int64(2), np.int64(65), np.int64(38), np.int64(99), np.int64(100), np.int64(85), np.int64(55), np.int64(64), np.int64(30), np.int64(66), np.int64(59), np.int64(5), np.int64(45), np.int64(27), np.int64(21), np.int64(54), np.int64(78), np.int64(81), np.int64(97), np.int64(101), np.int64(95), np.int64(51), np.int64(62), np.int64(1), np.int64(20), np.int64(48), np.int64(39), np.int64(104), np.int64(12), np.int64(43), np.int64(15), np.int64(79), np.int64(74), np.int64(23), np.int64(33), np.int64(7), np.int64(70), np.int64(103), np.int64(69), np.int64(31), np.int64(17), np.int64(41), np.int64(44), np.int64(11), np.int64(93), np.int64(29), np.int64(105), np.int64(4), np.int64(68), np.int64(76), np.int64(73)], Longitud = 280.00\n",
      "Hormiga 2: [0, np.int64(11), np.int64(28), np.int64(84), np.int64(22), np.int64(90), np.int64(79), np.int64(8), np.int64(75), np.int64(14), np.int64(93), np.int64(58), np.int64(69), np.int64(66), np.int64(86), np.int64(102), np.int64(97), np.int64(100), np.int64(19), np.int64(42), np.int64(62), np.int64(47), np.int64(70), np.int64(83), np.int64(101), np.int64(63), np.int64(4), np.int64(85), np.int64(55), np.int64(15), np.int64(49), np.int64(9), np.int64(34), np.int64(41), np.int64(43), np.int64(36), np.int64(80), np.int64(94), np.int64(88), np.int64(60), np.int64(3), np.int64(12), np.int64(45), np.int64(98), np.int64(105), np.int64(48), np.int64(46), np.int64(21), np.int64(52), np.int64(74), np.int64(56), np.int64(103), np.int64(95), np.int64(39), np.int64(104), np.int64(2), np.int64(99), np.int64(29), np.int64(82), np.int64(13), np.int64(23), np.int64(25), np.int64(81), np.int64(96), np.int64(20), np.int64(92), np.int64(32), np.int64(35), np.int64(64), np.int64(33), np.int64(7), np.int64(54), np.int64(6), np.int64(57), np.int64(76), np.int64(51), np.int64(87), np.int64(91), np.int64(44), np.int64(17), np.int64(30), np.int64(16), np.int64(78), np.int64(26), np.int64(10), np.int64(61), np.int64(65), np.int64(71), np.int64(27), np.int64(1), np.int64(73), np.int64(53), np.int64(77), np.int64(40), np.int64(106), np.int64(31), np.int64(72), np.int64(67), np.int64(5), np.int64(18), np.int64(68), np.int64(38), np.int64(50), np.int64(37), np.int64(89), np.int64(24), np.int64(59)], Longitud = 284.00\n",
      "Hormiga 3: [0, np.int64(56), np.int64(76), np.int64(77), np.int64(1), np.int64(28), np.int64(21), np.int64(89), np.int64(75), np.int64(15), np.int64(36), np.int64(14), np.int64(18), np.int64(7), np.int64(54), np.int64(16), np.int64(101), np.int64(48), np.int64(47), np.int64(32), np.int64(97), np.int64(62), np.int64(70), np.int64(6), np.int64(57), np.int64(95), np.int64(39), np.int64(83), np.int64(51), np.int64(87), np.int64(85), np.int64(33), np.int64(84), np.int64(37), np.int64(19), np.int64(55), np.int64(64), np.int64(30), np.int64(66), np.int64(65), np.int64(79), np.int64(4), np.int64(100), np.int64(102), np.int64(92), np.int64(81), np.int64(86), np.int64(53), np.int64(63), np.int64(10), np.int64(99), np.int64(5), np.int64(90), np.int64(59), np.int64(29), np.int64(105), np.int64(11), np.int64(2), np.int64(88), np.int64(60), np.int64(74), np.int64(34), np.int64(42), np.int64(69), np.int64(17), np.int64(96), np.int64(80), np.int64(58), np.int64(68), np.int64(35), np.int64(20), np.int64(71), np.int64(49), np.int64(9), np.int64(82), np.int64(31), np.int64(24), np.int64(41), np.int64(67), np.int64(13), np.int64(23), np.int64(8), np.int64(61), np.int64(3), np.int64(12), np.int64(43), np.int64(91), np.int64(44), np.int64(25), np.int64(50), np.int64(38), np.int64(73), np.int64(104), np.int64(78), np.int64(26), np.int64(106), np.int64(93), np.int64(22), np.int64(45), np.int64(98), np.int64(52), np.int64(103), np.int64(40), np.int64(46), np.int64(27), np.int64(72), np.int64(94)], Longitud = 283.00\n",
      "\n",
      "Matriz final de feromonas:\n",
      " [[0.125 0.125 0.125 ... 0.125 0.125 0.125]\n",
      " [0.125 0.125 0.125 ... 0.125 0.125 0.125]\n",
      " [0.125 0.125 0.125 ... 0.125 0.125 0.125]\n",
      " ...\n",
      " [0.125 0.125 0.129 ... 0.125 0.125 0.125]\n",
      " [0.125 0.125 0.125 ... 0.125 0.125 0.125]\n",
      " [0.125 0.125 0.125 ... 0.125 0.125 0.125]]\n"
     ]
    }
   ],
   "source": [
    "for ciclo in range(1, 4):\n",
    "    print(f\"\\n===== CICLO {ciclo} =====\")\n",
    "    hormigas = [build_route() for _ in range(3)]\n",
    "    for idx, h in enumerate(hormigas, 1):\n",
    "        print(f\"Hormiga {idx}: {h}, Longitud = {route_length(h):.2f}\")\n",
    "    update_pheromones(hormigas)\n",
    "\n",
    "print(\"\\nMatriz final de feromonas:\\n\", np.round(feromone_matrix, 3))"
   ]
  }
 ],
 "metadata": {
  "kernelspec": {
   "display_name": "Python 3",
   "language": "python",
   "name": "python3"
  },
  "language_info": {
   "codemirror_mode": {
    "name": "ipython",
    "version": 3
   },
   "file_extension": ".py",
   "mimetype": "text/x-python",
   "name": "python",
   "nbconvert_exporter": "python",
   "pygments_lexer": "ipython3",
   "version": "3.13.2"
  }
 },
 "nbformat": 4,
 "nbformat_minor": 5
}
